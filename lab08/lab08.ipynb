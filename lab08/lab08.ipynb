{
 "cells": [
  {
   "cell_type": "code",
   "execution_count": 1,
   "metadata": {
    "collapsed": false
   },
   "outputs": [],
   "source": [
    "import lab08\n",
    "from sklearn import datasets\n",
    "from sklearn.utils import shuffle\n",
    "import numpy as np\n",
    "\n",
    "iris = datasets.load_iris()\n",
    "X = (iris.data) / float(10)\n",
    "Y = iris.target\n",
    "l, t = lab08.divideDataSet(X, Y)\n",
    "l_x = l[:, [0, 1, 2, 3]]\n",
    "l_y = l[:, 4]\n",
    "l_y = np.array([np.array([1 if l_y[i] == j else 0 for j in range(3)]) for i in range(len(l_y))])\n",
    "t_x = t[:, [0, 1, 2, 3]]\n",
    "t_y = t[:, 4]\n",
    "t_y = np.array([np.array([1 if t_y[i] == j else 0 for j in range(3)]) for i in range(len(t_y))])\n",
    "X, Y = shuffle(X, Y, random_state=0)\n",
    "the_Y = np.array([np.array([1 if Y[i] == j else 0 for j in range(3)]) for i in range(len(Y))])"
   ]
  },
  {
   "cell_type": "markdown",
   "metadata": {},
   "source": [
    "# Исследование на ирисах Фишера"
   ]
  },
  {
   "cell_type": "markdown",
   "metadata": {},
   "source": [
    "## Простой GD"
   ]
  },
  {
   "cell_type": "code",
   "execution_count": 6,
   "metadata": {
    "collapsed": false
   },
   "outputs": [
    {
     "name": "stdout",
     "output_type": "stream",
     "text": [
      "0.96\n"
     ]
    }
   ],
   "source": [
    "network1 = lab08.Network()\n",
    "network1.layer(4, 2)\n",
    "network1.layer(2, 3)\n",
    "network1.fit_1(l_x, l_y, batch_size=100, n_epochs=10000, learning_rate=1)\n",
    "print(network1.score(t_x, t_y))"
   ]
  },
  {
   "cell_type": "markdown",
   "metadata": {},
   "source": [
    "## SGD без Momentum с размером батча 1 и сотней эпох"
   ]
  },
  {
   "cell_type": "code",
   "execution_count": 12,
   "metadata": {
    "collapsed": false
   },
   "outputs": [
    {
     "name": "stdout",
     "output_type": "stream",
     "text": [
      "0.24\n"
     ]
    }
   ],
   "source": [
    "network2 = lab08.Network()\n",
    "network2.layer(4, 2)\n",
    "network2.layer(2, 3)\n",
    "network2.fit_1(l_x, l_y, batch_size=1, n_epochs=100, learning_rate=0.1)\n",
    "print(network2.score(t_x, t_y))"
   ]
  },
  {
   "cell_type": "markdown",
   "metadata": {},
   "source": [
    "## SGD с Momentum, размером батча 1 и сотней эпох"
   ]
  },
  {
   "cell_type": "code",
   "execution_count": 23,
   "metadata": {
    "collapsed": false
   },
   "outputs": [
    {
     "name": "stdout",
     "output_type": "stream",
     "text": [
      "0.74\n"
     ]
    }
   ],
   "source": [
    "network3 = lab08.Network()\n",
    "network3.layer(4, 2)\n",
    "network3.layer(2, 3)\n",
    "network3.fit_1(l_x, l_y, batch_size=1, n_epochs=100, learning_rate=0.1, momentum=0.9)\n",
    "print(network3.score(t_x, t_y))"
   ]
  },
  {
   "cell_type": "markdown",
   "metadata": {},
   "source": [
    "## SGD без Momentum, размером батча 1 и тысячей эпох "
   ]
  },
  {
   "cell_type": "code",
   "execution_count": 26,
   "metadata": {
    "collapsed": false
   },
   "outputs": [
    {
     "name": "stdout",
     "output_type": "stream",
     "text": [
      "0.96\n"
     ]
    }
   ],
   "source": [
    "network5 = lab08.Network()\n",
    "network5.layer(4, 2)\n",
    "network5.layer(2, 3)\n",
    "network5.fit_1(l_x, l_y, batch_size=1, n_epochs=1000, learning_rate=0.1, momentum=0.0)\n",
    "print(network5.score(t_x, t_y))"
   ]
  },
  {
   "cell_type": "markdown",
   "metadata": {},
   "source": [
    "## SGD без Momentum, размером батча 10 и десятью тысячами эпох"
   ]
  },
  {
   "cell_type": "code",
   "execution_count": 25,
   "metadata": {
    "collapsed": false
   },
   "outputs": [
    {
     "name": "stdout",
     "output_type": "stream",
     "text": [
      "0.96\n"
     ]
    }
   ],
   "source": [
    "network4 = lab08.Network()\n",
    "network4.layer(4, 2)\n",
    "network4.layer(2, 3)\n",
    "network4.fit_1(l_x, l_y, batch_size=10, n_epochs=10000, learning_rate=0.1, momentum=0.0)\n",
    "print(network4.score(t_x, t_y))"
   ]
  },
  {
   "cell_type": "markdown",
   "metadata": {},
   "source": [
    "Вывод: простой GD, хоть он и эффективен при больших значениях learning_rate и количества эпох, в плане скорости значительно уступает SGD. Что же касается самого SGD, то тут можно заметить следующую закономернотсь: чем меньше batch_size, тем меньше эпох надо сети, чтобы обучиться. Кроме того, при использовании momentum можно значительно увеличить эффективность SGD, вследствие чего желаемый результат достигается при меньшем количестве эпох. Кроме того, все весрии алгоритма с Нейронной сетью В РАЗЫ быстрее и эффективнее персловутого SVM."
   ]
  },
  {
   "cell_type": "code",
   "execution_count": null,
   "metadata": {
    "collapsed": true
   },
   "outputs": [],
   "source": []
  }
 ],
 "metadata": {
  "kernelspec": {
   "display_name": "IPython (Python 2)",
   "language": "python",
   "name": "python2"
  },
  "language_info": {
   "codemirror_mode": {
    "name": "ipython",
    "version": 2
   },
   "file_extension": ".py",
   "mimetype": "text/x-python",
   "name": "python",
   "nbconvert_exporter": "python",
   "pygments_lexer": "ipython2",
   "version": "2.7.11"
  }
 },
 "nbformat": 4,
 "nbformat_minor": 0
}
