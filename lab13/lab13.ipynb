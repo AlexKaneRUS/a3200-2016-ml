{
 "cells": [
  {
   "cell_type": "markdown",
   "metadata": {},
   "source": [
    "# Соревновательная сеть на основе MLP"
   ]
  },
  {
   "cell_type": "markdown",
   "metadata": {},
   "source": [
    "Код обучения сети немного сплагиатил и подстроил под свои нужды у одного пользователя гитхаба, потому что он показался мне очень элегантным! Лучше бы я сам точно не написал! Суть вот такая: фиксируем шум и после каждой эпохи обучения халиваем его в генертивную модель, чтобы отследить изменения в поведении генератора."
   ]
  },
  {
   "cell_type": "markdown",
   "metadata": {},
   "source": [
    "Обучал модель с целью генерации MNIST-подобной цифры семь. Отдельным файлом приложил тул, с помощью которого вы можете сделать свою собственную MNIST-подобную семёрку!"
   ]
  },
  {
   "cell_type": "markdown",
   "metadata": {},
   "source": [
    "Стратегия обучения: 20 эпох обучения, каждая третья является эпохой обучения генератора; за баланс в обучении отвечает параметр uh. "
   ]
  },
  {
   "cell_type": "markdown",
   "metadata": {},
   "source": [
    "Я провёл достаточно много экспериментов и с удивлением обнаружил, что лучшего результата можно добиться именно при 20 эпохах и именно с таким балансом обучения дискриптивной/генеративной модели. При этом точность дискриптивной модели вов ремя последнего обучения -- 85%. Забавно, что если обучить после этой эпохи генеративную модель два раза (а иногда может хватить и одного), то точность дискриптивной модели сразу упадёт до желанных 50%, но качество итоговой картинки заметно ухудшится."
   ]
  },
  {
   "cell_type": "markdown",
   "metadata": {},
   "source": [
    "# Криповый лог появления семёрки!"
   ]
  },
  {
   "cell_type": "markdown",
   "metadata": {},
   "source": [
    "<img src=\"one0.png\">\n",
    "<img src=\"one3.png\">\n",
    "<img src=\"one6.png\">\n",
    "<img src=\"one9.png\">\n",
    "<img src=\"one12.png\">\n",
    "<img src=\"one15.png\">\n",
    "<img src=\"one18.png\">"
   ]
  },
  {
   "cell_type": "code",
   "execution_count": null,
   "metadata": {
    "collapsed": true
   },
   "outputs": [],
   "source": []
  }
 ],
 "metadata": {
  "kernelspec": {
   "display_name": "IPython (Python 2)",
   "language": "python",
   "name": "python2"
  },
  "language_info": {
   "codemirror_mode": {
    "name": "ipython",
    "version": 2
   },
   "file_extension": ".py",
   "mimetype": "text/x-python",
   "name": "python",
   "nbconvert_exporter": "python",
   "pygments_lexer": "ipython2",
   "version": "2.7.11"
  }
 },
 "nbformat": 4,
 "nbformat_minor": 0
}
