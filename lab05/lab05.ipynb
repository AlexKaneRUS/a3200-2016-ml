{
 "cells": [
  {
   "cell_type": "code",
   "execution_count": 1,
   "metadata": {
    "collapsed": false
   },
   "outputs": [],
   "source": [
    "import lab05\n",
    "import cPickle\n",
    "\n",
    "x, y = cPickle.load(open(\"iris.txt\", \"rb\"))\n",
    "l, t = lab05.divideDataSet(x, y)"
   ]
  },
  {
   "cell_type": "markdown",
   "metadata": {},
   "source": [
    "# Проба алгоритма для линейно разделимой выборки на базе ирисов Фишера"
   ]
  },
  {
   "cell_type": "code",
   "execution_count": 2,
   "metadata": {
    "collapsed": false
   },
   "outputs": [
    {
     "name": "stdout",
     "output_type": "stream",
     "text": [
      "Просто score для нашей обучающей и тестовой выборки\n",
      "0.660000\n",
      "\n",
      "Так как выборку нельзя назвать полностью линейно разделимой, результаты для данного алгоритма не очень удивительны\n"
     ]
    }
   ],
   "source": [
    "print(\"Просто score для нашей обучающей и тестовой выборки\")\n",
    "print(\"%2f\" % lab05.score_for_fisher(l, t, None, 0))\n",
    "print(\"\")\n",
    "print(\"Так как выборку нельзя назвать полностью линейно разделимой, результаты для данного алгоритма не очень удивительны\")"
   ]
  },
  {
   "cell_type": "markdown",
   "metadata": {},
   "source": [
    "# Кросс-валидация для разделимого и неразделимого случаев на базе ирисов Фишера"
   ]
  },
  {
   "cell_type": "code",
   "execution_count": 3,
   "metadata": {
    "collapsed": false
   },
   "outputs": [
    {
     "name": "stdout",
     "output_type": "stream",
     "text": [
      "Линейно разделимый случай\n",
      "0.61219772404\n",
      "\n",
      "Линейно неразделимый случай без kernel trick\n",
      "0.706436699858\n",
      "\n"
     ]
    }
   ],
   "source": [
    "print(\"Линейно разделимый случай\")\n",
    "print(lab05.cv_f(x, y, None, 0))\n",
    "print(\"\")\n",
    "print(\"Линейно неразделимый случай без kernel trick\")\n",
    "print(lab05.cv_f(x, y, 1, 0))\n",
    "print(\"\")"
   ]
  },
  {
   "cell_type": "code",
   "execution_count": 4,
   "metadata": {
    "collapsed": false
   },
   "outputs": [
    {
     "name": "stdout",
     "output_type": "stream",
     "text": [
      "Линейно неразделимый случай с kernel trick (квадрат скалярного произведения)\n",
      "0.334459459459\n",
      "\n",
      "Линейно неразделимый случай с kernel trick (гиперболический тангенс)\n",
      "0.333392603129\n",
      "\n",
      "Реализация sklearn в данных условиях кросс-валидации (k-fold для четырёх частей) даёт score 0.77\n"
     ]
    }
   ],
   "source": [
    "print(\"Линейно неразделимый случай с kernel trick (квадрат скалярного произведения)\")\n",
    "print(lab05.cv_f(x, y, 1, 1))\n",
    "print(\"\")\n",
    "print(\"Линейно неразделимый случай с kernel trick (гиперболический тангенс)\")\n",
    "print(lab05.cv_f(x, y, 1, 2))\n",
    "print(\"\")\n",
    "print(\"Реализация sklearn в данных условиях кросс-валидации (k-fold для четырёх частей) даёт score 0.77\")"
   ]
  },
  {
   "cell_type": "code",
   "execution_count": 5,
   "metadata": {
    "collapsed": false
   },
   "outputs": [
    {
     "name": "stdout",
     "output_type": "stream",
     "text": [
      "Видимо, переход в измерение большей размерности не сильно помогает при решении данной задачи\n"
     ]
    }
   ],
   "source": [
    "print(\"Видимо, переход в измерение большей размерности не сильно помогает при решении данной задачи\")"
   ]
  },
  {
   "cell_type": "markdown",
   "metadata": {
    "collapsed": true
   },
   "source": [
    "# Grid Search для параметра C на основе ирисов Фишера без kernel trick"
   ]
  },
  {
   "cell_type": "code",
   "execution_count": 7,
   "metadata": {
    "collapsed": false
   },
   "outputs": [
    {
     "name": "stdout",
     "output_type": "stream",
     "text": [
      "Лучший результат 0.660000 достигается при C, равном 8\n",
      "Время, затраченное на поиск оптимального C: 3736.832169 с\n"
     ]
    }
   ],
   "source": [
    "import time\n",
    "\n",
    "starting_time = time.clock()\n",
    "c, the_max = lab05.grid_search(l, t, 0)\n",
    "final_time = time.clock() - starting_time\n",
    "\n",
    "print \"Лучший результат\", \"%2f\" % the_max, \"достигается при C, равном\", c\n",
    "print \"Время, затраченное на поиск оптимального C:\", \"%2f\" % final_time, \"с\""
   ]
  },
  {
   "cell_type": "code",
   "execution_count": null,
   "metadata": {
    "collapsed": true
   },
   "outputs": [],
   "source": []
  }
 ],
 "metadata": {
  "kernelspec": {
   "display_name": "IPython (Python 2)",
   "language": "python",
   "name": "python2"
  },
  "language_info": {
   "codemirror_mode": {
    "name": "ipython",
    "version": 2
   },
   "file_extension": ".py",
   "mimetype": "text/x-python",
   "name": "python",
   "nbconvert_exporter": "python",
   "pygments_lexer": "ipython2",
   "version": "2.7.11"
  }
 },
 "nbformat": 4,
 "nbformat_minor": 0
}
