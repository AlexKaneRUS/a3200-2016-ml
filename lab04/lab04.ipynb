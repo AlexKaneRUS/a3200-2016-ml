{
 "cells": [
  {
   "cell_type": "code",
   "execution_count": 4,
   "metadata": {
    "collapsed": false
   },
   "outputs": [],
   "source": [
    "import cPickle\n",
    "import lab04\n",
    "\n",
    "x, y = cPickle.load(open(\"iris.txt\", \"rb\"))\n",
    "l, t = lab04.divideDataSet(x, y)"
   ]
  },
  {
   "cell_type": "markdown",
   "metadata": {},
   "source": [
    "# Кросс-валидация для CART"
   ]
  },
  {
   "cell_type": "code",
   "execution_count": 16,
   "metadata": {
    "collapsed": false
   },
   "outputs": [
    {
     "name": "stdout",
     "output_type": "stream",
     "text": [
      "Индекс Джини\n",
      "0.95\n",
      "\n",
      "Энтропия\n",
      "0.85\n"
     ]
    }
   ],
   "source": [
    "print(\"Индекс Джини\")\n",
    "print(\"%.2f\" % lab04.cv(x, y, 0, 0, [0, 1, 2, 3], 0, 0))\n",
    "print(\"\")\n",
    "print(\"Энтропия\")\n",
    "print(\"%.2f\" % lab04.cv(x, y, 0, 0, [0, 1, 2, 3], 1, 0))"
   ]
  },
  {
   "cell_type": "markdown",
   "metadata": {},
   "source": [
    "# Кросс-валидация для Random Forest"
   ]
  },
  {
   "cell_type": "code",
   "execution_count": 18,
   "metadata": {
    "collapsed": false
   },
   "outputs": [
    {
     "name": "stdout",
     "output_type": "stream",
     "text": [
      "Моя реализация с индексом Джини\n",
      "0.94\n",
      "\n",
      "Моя реализация с Энтропией\n",
      "0.87\n",
      "\n",
      "Тем временем реализация sklearn выдаёт (код приложил)\n",
      "0.96\n"
     ]
    }
   ],
   "source": [
    "print(\"Моя реализация с индексом Джини\")\n",
    "print(\"%.2f\" % lab04.cv(x, y, 3, 9, [0, 1, 2, 3], 0, 1))\n",
    "print(\"\")\n",
    "print(\"Моя реализация с Энтропией\")\n",
    "print(\"%.2f\" % lab04.cv(x, y, 3, 9, [0, 1, 2, 3], 1, 1))\n",
    "print(\"\")\n",
    "print(\"Тем временем реализация sklearn выдаёт (код приложил)\")\n",
    "print(\"0.96\")"
   ]
  },
  {
   "cell_type": "markdown",
   "metadata": {},
   "source": [
    "# Grid Search для фиксированных обучающей и тестовой выборок"
   ]
  },
  {
   "cell_type": "code",
   "execution_count": 45,
   "metadata": {
    "collapsed": false
   },
   "outputs": [
    {
     "name": "stdout",
     "output_type": "stream",
     "text": [
      "Число фич --  2\n",
      "Число деревьев --  7\n",
      "Результат на этих данных --  0.96\n"
     ]
    }
   ],
   "source": [
    "import time\n",
    "\n",
    "l, t = lab04.divideDataSet(x, y)\n",
    "starting_time = time.clock()\n",
    "m, number_of_trees, res = lab04.grid_search(l, t, [0, 1, 2, 3], 0)\n",
    "delta = time.clock() - starting_time\n",
    "\n",
    "print \"Число фич -- \" , m\n",
    "print \"Число деревьев -- \" ,  number_of_trees\n",
    "print \"Результат на этих данных -- \", res"
   ]
  },
  {
   "cell_type": "markdown",
   "metadata": {},
   "source": [
    "# Развёрнутый анализ алгоритма Random Forest"
   ]
  },
  {
   "cell_type": "markdown",
   "metadata": {},
   "source": [
    "## Время работы и сравнение результатов с KNN"
   ]
  },
  {
   "cell_type": "code",
   "execution_count": 51,
   "metadata": {
    "collapsed": false
   },
   "outputs": [
    {
     "name": "stdout",
     "output_type": "stream",
     "text": [
      "Время работы алгоритма -- 42.18 с\n",
      "Результат для Random Forest -- 0.94\n"
     ]
    }
   ],
   "source": [
    "forest = lab04.Random_forest()\n",
    "delta1 = -time.clock()\n",
    "forest.build_random_forest(l, m, number_of_trees, [0, 1, 2, 3], 0)\n",
    "res_rand = forest.check_class_array(t)\n",
    "delta1 += time.clock()\n",
    "time_res = delta + delta1\n",
    "print \"Время работы алгоритма --\", \"%.2f\" % time_res, \"с\"\n",
    "print \"Результат для Random Forest --\", res_rand"
   ]
  },
  {
   "cell_type": "code",
   "execution_count": 53,
   "metadata": {
    "collapsed": false
   },
   "outputs": [
    {
     "name": "stdout",
     "output_type": "stream",
     "text": [
      "Результат для KNN -- 0.94\n"
     ]
    }
   ],
   "source": [
    "import lab03\n",
    "\n",
    "print \"Результат для KNN --\", lab03.kNN(l, t, 3, 0, 2, 0, 0)[1]"
   ]
  },
  {
   "cell_type": "code",
   "execution_count": 56,
   "metadata": {
    "collapsed": false
   },
   "outputs": [
    {
     "name": "stdout",
     "output_type": "stream",
     "text": [
      "Кросс-валидация для Random Forest с заданными параметрами\n",
      "0.93\n"
     ]
    }
   ],
   "source": [
    "print(\"Кросс-валидация для Random Forest с заданными параметрами\")\n",
    "print(\"%.2f\" % lab04.cv(x, y, 2, 7, [0, 1, 2, 3], 0, 1))"
   ]
  },
  {
   "cell_type": "code",
   "execution_count": 57,
   "metadata": {
    "collapsed": false
   },
   "outputs": [
    {
     "name": "stdout",
     "output_type": "stream",
     "text": [
      "Кросс-валидация для KNN\n",
      "0.95\n"
     ]
    }
   ],
   "source": [
    "print(\"Кросс-валидация для KNN\")\n",
    "print(\"%.2f\" % lab03.cv(x, y, 3, 0, 2, 0, 0))"
   ]
  },
  {
   "cell_type": "code",
   "execution_count": 60,
   "metadata": {
    "collapsed": true
   },
   "outputs": [],
   "source": [
    "# Вывод: на наборе ирисов Фишера намного проще, быстрее и эффективнее воспользоваться KNN, а не Random Forest. \n",
    "#        Однако это не исключает того факта, что на других данных KNN с большой вероятностью бы проиграл. "
   ]
  },
  {
   "cell_type": "markdown",
   "metadata": {},
   "source": [
    "## Поведение Random Forest в экстремальных условиях"
   ]
  },
  {
   "cell_type": "code",
   "execution_count": 63,
   "metadata": {
    "collapsed": false
   },
   "outputs": [
    {
     "name": "stdout",
     "output_type": "stream",
     "text": [
      "Одна фича, пятьдесят деревьев\n",
      "Результат оценки -- 0.9\n",
      "\n",
      "Четыре фичи, пятьдесят деревьев\n",
      "Реузльтат оценки -- 0.92\n"
     ]
    }
   ],
   "source": [
    "print(\"Одна фича, пятьдесят деревьев\")\n",
    "forest = lab04.Random_forest()\n",
    "forest.build_random_forest(l, 1, 50, [0, 1, 2, 3], 0)\n",
    "print \"Результат оценки --\", forest.check_class_array(t)\n",
    "print(\"\")\n",
    "print(\"Четыре фичи, пятьдесят деревьев\")\n",
    "forest = lab04.Random_forest()\n",
    "forest.build_random_forest(l, 4, 50, [0, 1, 2, 3], 0)\n",
    "print \"Реузльтат оценки --\", forest.check_class_array(t)"
   ]
  },
  {
   "cell_type": "code",
   "execution_count": 64,
   "metadata": {
    "collapsed": true
   },
   "outputs": [],
   "source": [
    "# Вывод: неплохие, но не оптимальные результаты. Вполне ожидаемо, что с ростом числа фич при большом наборе деревьев \n",
    "#        увеличивается точность предсказания."
   ]
  },
  {
   "cell_type": "markdown",
   "metadata": {},
   "source": [
    "## Вероятность ошибки при изменении числа фич и деревьев"
   ]
  },
  {
   "cell_type": "code",
   "execution_count": 74,
   "metadata": {
    "collapsed": false
   },
   "outputs": [
    {
     "name": "stdout",
     "output_type": "stream",
     "text": [
      "Populating the interactive namespace from numpy and matplotlib\n",
      "Зависимость точности Random Forest от числа деревьев (max = 50) при двух фичах\n"
     ]
    },
    {
     "name": "stderr",
     "output_type": "stream",
     "text": [
      "WARNING: pylab import has clobbered these variables: ['array']\n",
      "`%matplotlib` prevents importing * from pylab and numpy\n"
     ]
    },
    {
     "data": {
      "image/png": "[encoded data removed]",
      "text/plain": [
       "<matplotlib.figure.Figure at 0x7f0d9f41b710>"
      ]
     },
     "metadata": {},
     "output_type": "display_data"
    }
   ],
   "source": [
    "%pylab inline\n",
    "\n",
    "import matplotlib.pyplot as mp\n",
    "\n",
    "print(\"Зависимость точности Random Forest от числа деревьев (max = 50) при двух фичах\")\n",
    "array1 = [i + 1 for i in range(50)]\n",
    "array_of_results = []\n",
    "for i in range(50):\n",
    "    forest = lab04.Random_forest()\n",
    "    forest.build_random_forest(l, 2, i, [0, 1, 2, 3], 0)\n",
    "    array_of_results.append(forest.check_class_array(t))\n",
    "mp.scatter(array1, array_of_results)\n",
    "mp.show()"
   ]
  },
  {
   "cell_type": "code",
   "execution_count": 78,
   "metadata": {
    "collapsed": false
   },
   "outputs": [
    {
     "name": "stdout",
     "output_type": "stream",
     "text": [
      "Зависимость точности Random Forest от числа фич (max = 4) при десяти деревьях\n"
     ]
    },
    {
     "data": {
      "image/png": "[encoded data removed]",
      "text/plain": [
       "<matplotlib.figure.Figure at 0x7f0d9f69a5d0>"
      ]
     },
     "metadata": {},
     "output_type": "display_data"
    }
   ],
   "source": [
    "print(\"Зависимость точности Random Forest от числа фич (max = 4) при десяти деревьях\")\n",
    "array1 = [i + 1 for i in range(4)]\n",
    "array_of_results = []\n",
    "for i in range(1, 5):\n",
    "    forest = lab04.Random_forest()\n",
    "    forest.build_random_forest(l, i, 10, [0, 1, 2, 3], 0)\n",
    "    array_of_results.append(forest.check_class_array(t))\n",
    "mp.plot(array1, array_of_results)\n",
    "mp.show()"
   ]
  },
  {
   "cell_type": "code",
   "execution_count": null,
   "metadata": {
    "collapsed": true
   },
   "outputs": [],
   "source": []
  }
 ],
 "metadata": {
  "kernelspec": {
   "display_name": "IPython (Python 2)",
   "language": "python",
   "name": "python2"
  },
  "language_info": {
   "codemirror_mode": {
    "name": "ipython",
    "version": 2
   },
   "file_extension": ".py",
   "mimetype": "text/x-python",
   "name": "python",
   "nbconvert_exporter": "python",
   "pygments_lexer": "ipython2",
   "version": "2.7.11"
  }
 },
 "nbformat": 4,
 "nbformat_minor": 0
}
