{
 "cells": [
  {
   "cell_type": "code",
   "execution_count": 1,
   "metadata": {
    "collapsed": true
   },
   "outputs": [],
   "source": [
    "import lab14\n",
    "import numpy as np"
   ]
  },
  {
   "cell_type": "markdown",
   "metadata": {},
   "source": [
    "Случайные (не очень) результаты тестового запуска алгоритма на функции 12 переменных, минимумом которой является 0"
   ]
  },
  {
   "cell_type": "code",
   "execution_count": 2,
   "metadata": {
    "collapsed": false
   },
   "outputs": [
    {
     "name": "stdout",
     "output_type": "stream",
     "text": [
      "(0.0, array([0, 0, 0, 0, 0, 0, 0, 0, 0, 0, 0, 0]))\n"
     ]
    }
   ],
   "source": [
    "def test_func(x):\n",
    "    res = 0\n",
    "    for i in range(len(x)):\n",
    "        if i % 4 == 0:\n",
    "            res += np.sin(x[i])\n",
    "        elif i % 4 == 1:\n",
    "            res += np.sin(x[i])\n",
    "        elif i % 4 == 2:\n",
    "            res += np.tan(x[i])\n",
    "        else:\n",
    "            res += x[i]\n",
    "    return res\n",
    "\n",
    "\n",
    "ga = lab14.GA(10, 20, 50, test_func, 12)\n",
    "print(ga.find_min(2, 8, 3, 2, 2))"
   ]
  },
  {
   "cell_type": "markdown",
   "metadata": {},
   "source": [
    "Интересно посмотреть на процент успешного нахождения минимума с данными параметрами алгоритма:"
   ]
  },
  {
   "cell_type": "code",
   "execution_count": 3,
   "metadata": {
    "collapsed": false
   },
   "outputs": [
    {
     "name": "stdout",
     "output_type": "stream",
     "text": [
      "80\n"
     ]
    }
   ],
   "source": [
    "mistake = 0\n",
    "for i in range(100):\n",
    "    ga = lab14.GA(10, 20, 50, test_func, 12)\n",
    "    mistake += int(ga.find_min(2, 8, 3, 2, 2)[0] == 0)\n",
    "print(mistake)"
   ]
  },
  {
   "cell_type": "markdown",
   "metadata": {},
   "source": [
    "Мало того, что 100 раз найти минимум данной функции оказалось невероятно затратной по времени задачей для алгоритма (ну минуты две-три точно ушло на это дело), так и итоговые 80% выглядят не очень хорошим показателем!"
   ]
  },
  {
   "cell_type": "code",
   "execution_count": null,
   "metadata": {
    "collapsed": true
   },
   "outputs": [],
   "source": []
  }
 ],
 "metadata": {
  "kernelspec": {
   "display_name": "IPython (Python 2)",
   "language": "python",
   "name": "python2"
  },
  "language_info": {
   "codemirror_mode": {
    "name": "ipython",
    "version": 2
   },
   "file_extension": ".py",
   "mimetype": "text/x-python",
   "name": "python",
   "nbconvert_exporter": "python",
   "pygments_lexer": "ipython2",
   "version": "2.7.11"
  }
 },
 "nbformat": 4,
 "nbformat_minor": 0
}
