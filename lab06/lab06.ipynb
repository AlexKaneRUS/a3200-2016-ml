{
 "cells": [
  {
   "cell_type": "code",
   "execution_count": 1,
   "metadata": {
    "collapsed": false
   },
   "outputs": [
    {
     "name": "stdout",
     "output_type": "stream",
     "text": [
      "Extracting MNIST_data/train-images-idx3-ubyte.gz\n",
      "Extracting MNIST_data/train-labels-idx1-ubyte.gz\n",
      "Extracting MNIST_data/t10k-images-idx3-ubyte.gz\n",
      "Extracting MNIST_data/t10k-labels-idx1-ubyte.gz\n"
     ]
    }
   ],
   "source": [
    "import lab061\n",
    "from tensorflow.examples.tutorials.mnist import input_data\n",
    "\n",
    "mnist = input_data.read_data_sets(\"MNIST_data/\", one_hot=True)\n",
    "\n",
    "l_x, l_y = mnist.train.next_batch(55000)\n",
    "t_x = mnist.test.images\n",
    "t_y = mnist.test.labels"
   ]
  },
  {
   "cell_type": "markdown",
   "metadata": {},
   "source": [
    "# Тест AdaBoost на MNIST для 300 классификаторов"
   ]
  },
  {
   "cell_type": "code",
   "execution_count": 2,
   "metadata": {
    "collapsed": false
   },
   "outputs": [
    {
     "name": "stdout",
     "output_type": "stream",
     "text": [
      "Preprocessing completed\n",
      "1/10 of learning completed\n",
      "2/10 of learning completed\n",
      "3/10 of learning completed\n",
      "4/10 of learning completed\n",
      "5/10 of learning completed\n",
      "6/10 of learning completed\n",
      "7/10 of learning completed\n",
      "8/10 of learning completed\n",
      "9/10 of learning completed\n",
      "10/10 of learning completed\n",
      "0.8448\n"
     ]
    }
   ],
   "source": [
    "print(lab061.test(l_x, l_y, t_x, t_y, 300))"
   ]
  },
  {
   "cell_type": "markdown",
   "metadata": {
    "collapsed": true
   },
   "source": [
    "# Тест AdaBoost на MNIST для 1000 классификаторов"
   ]
  },
  {
   "cell_type": "code",
   "execution_count": 3,
   "metadata": {
    "collapsed": false
   },
   "outputs": [
    {
     "name": "stdout",
     "output_type": "stream",
     "text": [
      "Preprocessing completed\n",
      "1/10 of learning completed\n",
      "2/10 of learning completed\n",
      "3/10 of learning completed\n",
      "4/10 of learning completed\n",
      "5/10 of learning completed\n",
      "6/10 of learning completed\n",
      "7/10 of learning completed\n",
      "8/10 of learning completed\n",
      "9/10 of learning completed\n",
      "10/10 of learning completed\n",
      "0.863\n"
     ]
    }
   ],
   "source": [
    "print(lab061.test(l_x, l_y, t_x, t_y, 1000))"
   ]
  },
  {
   "cell_type": "code",
   "execution_count": 4,
   "metadata": {
    "collapsed": false
   },
   "outputs": [
    {
     "name": "stdout",
     "output_type": "stream",
     "text": [
      "Этот результат в 8.8 раза больше, чем 0.098, что не может не радовать!\n"
     ]
    }
   ],
   "source": [
    "print(\"Этот результат в 8.8 раза больше, чем 0.098, что не может не радовать!\")"
   ]
  },
  {
   "cell_type": "code",
   "execution_count": null,
   "metadata": {
    "collapsed": true
   },
   "outputs": [],
   "source": []
  }
 ],
 "metadata": {
  "kernelspec": {
   "display_name": "IPython (Python 2)",
   "language": "python",
   "name": "python2"
  },
  "language_info": {
   "codemirror_mode": {
    "name": "ipython",
    "version": 2
   },
   "file_extension": ".py",
   "mimetype": "text/x-python",
   "name": "python",
   "nbconvert_exporter": "python",
   "pygments_lexer": "ipython2",
   "version": "2.7.11"
  }
 },
 "nbformat": 4,
 "nbformat_minor": 0
}
