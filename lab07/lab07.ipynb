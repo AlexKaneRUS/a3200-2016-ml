{
 "cells": [
  {
   "cell_type": "code",
   "execution_count": 10,
   "metadata": {
    "collapsed": false
   },
   "outputs": [
    {
     "name": "stdout",
     "output_type": "stream",
     "text": [
      "Extracting MNIST_data/train-images-idx3-ubyte.gz\n",
      "Extracting MNIST_data/train-labels-idx1-ubyte.gz\n",
      "Extracting MNIST_data/t10k-images-idx3-ubyte.gz\n",
      "Extracting MNIST_data/t10k-labels-idx1-ubyte.gz\n"
     ]
    }
   ],
   "source": [
    "import lab07part1\n",
    "import numpy as np\n",
    "import time\n",
    "from tensorflow.examples.tutorials.mnist import input_data\n",
    "\n",
    "mnist = input_data.read_data_sets(\"MNIST_data/\", one_hot=True)\n",
    "\n",
    "l_x, l_y = mnist.train.next_batch(55000)\n",
    "t_x = mnist.test.images\n",
    "t_y = mnist.test.labels\n",
    "data1 = []\n",
    "data2 = []\n",
    "\n",
    "for k in range(len(l_x) / 55):\n",
    "    data1.append((l_x[k], np.argmax(l_y[k])))\n",
    "    \n",
    "for k in range(int(len(l_x) / 5.5)):\n",
    "    data2.append((l_x[k], np.argmax(l_y[k])))"
   ]
  },
  {
   "cell_type": "markdown",
   "metadata": {},
   "source": [
    "# Сравнение K-means и DBSCAN на выборке MNIST из 1000 элементов"
   ]
  },
  {
   "cell_type": "markdown",
   "metadata": {},
   "source": [
    "## K-means "
   ]
  },
  {
   "cell_type": "code",
   "execution_count": 6,
   "metadata": {
    "collapsed": false
   },
   "outputs": [
    {
     "name": "stdout",
     "output_type": "stream",
     "text": [
      "Результат: 0.598800846874\n",
      "Время работы алгоритма -- 1.00 с\n"
     ]
    }
   ],
   "source": [
    "start = time.clock()\n",
    "print \"Результат:\", lab07part1.test_k_means(data1)\n",
    "time_res = time.clock() - start\n",
    "print \"Время работы алгоритма --\", \"%.2f\" % time_res, \"с\""
   ]
  },
  {
   "cell_type": "markdown",
   "metadata": {},
   "source": [
    "## DBSCAN"
   ]
  },
  {
   "cell_type": "code",
   "execution_count": 7,
   "metadata": {
    "collapsed": false
   },
   "outputs": [
    {
     "name": "stdout",
     "output_type": "stream",
     "text": [
      "Результат: 1.0\n",
      "Время работы алгоритма -- 12.21 с\n"
     ]
    }
   ],
   "source": [
    "start = time.clock()\n",
    "print \"Результат:\", lab07part1.test_DBSCAN(data1, 8, 77)\n",
    "time_res = time.clock() - start\n",
    "print \"Время работы алгоритма --\", \"%.2f\" % time_res, \"с\""
   ]
  },
  {
   "cell_type": "markdown",
   "metadata": {
    "collapsed": true
   },
   "source": [
    "Чтобы было просто подобрать эпсилон и число соседей для DBSCAN, я сократил выборку до тысячи элементов. Именно с такими параметрами число кластеров равно десяти, и в каждом из них лежат цифры, соответсвующие номеру кластера. Высокая точность DBSCAN видна из результата кластеризации.\n",
    "Что же касается K-means, то тут проблема, возможно, кроется в выборе начальных точек, которые сейчас находятся случайно."
   ]
  },
  {
   "cell_type": "markdown",
   "metadata": {},
   "source": [
    "## BONUS: результаты работы алгоритмов на 10000 элементов"
   ]
  },
  {
   "cell_type": "markdown",
   "metadata": {},
   "source": [
    "### Всё тот же K-means"
   ]
  },
  {
   "cell_type": "code",
   "execution_count": 11,
   "metadata": {
    "collapsed": false
   },
   "outputs": [
    {
     "name": "stdout",
     "output_type": "stream",
     "text": [
      "Результат: 0.585879114345\n",
      "Время работы алгоритма -- 9.92 с\n"
     ]
    }
   ],
   "source": [
    "start = time.clock()\n",
    "print \"Результат:\", lab07part1.test_k_means(data2)\n",
    "time_res = time.clock() - start\n",
    "print \"Время работы алгоритма --\", \"%.2f\" % time_res, \"с\""
   ]
  },
  {
   "cell_type": "markdown",
   "metadata": {},
   "source": [
    "### DBSCAN с увеличенным в почти 10 раз количеством соседей"
   ]
  },
  {
   "cell_type": "code",
   "execution_count": 12,
   "metadata": {
    "collapsed": false
   },
   "outputs": [
    {
     "name": "stdout",
     "output_type": "stream",
     "text": [
      "Результат: 1.0\n",
      "Время работы алгоритма -- 1248.90 с\n"
     ]
    }
   ],
   "source": [
    "start = time.clock()\n",
    "print \"Результат:\", lab07part1.test_DBSCAN(data2, 8, 700)\n",
    "time_res = time.clock() - start\n",
    "print \"Время работы алгоритма --\", \"%.2f\" % time_res, \"с\""
   ]
  },
  {
   "cell_type": "markdown",
   "metadata": {},
   "source": [
    "Несмотря на свою постоянную неточность (которая колеблется в районе 0.6) K-means невероятно быстр по сравнению с DBSCAN. НО. Но. Какая же прекрасная точность деления на кластеры у DBSCAN. Прелесть просто."
   ]
  },
  {
   "cell_type": "markdown",
   "metadata": {
    "collapsed": true
   },
   "source": [
    "# Результаты анализа датасета Титаник"
   ]
  },
  {
   "cell_type": "markdown",
   "metadata": {},
   "source": [
    "Вектаризовав данные и выбрав фичёй цену, за которую был куплен билет на корабль, я получил два кластера, соответсвующие пассажирам бедным и пассажирам богатым. Размеры кластеров -- 534 и 357 соответсвенно. Оказалось, что проценент погибших богатых пассажиров составил 46%, в то время как среди обычных пассажиров утонуло 72% от их общего числа."
   ]
  },
  {
   "cell_type": "markdown",
   "metadata": {},
   "source": [
    "Сама иерархическая кластеризация приложена в файле lab07part2.py. Результаты кластеризации -- файлы Poor и Rich."
   ]
  },
  {
   "cell_type": "code",
   "execution_count": null,
   "metadata": {
    "collapsed": true
   },
   "outputs": [],
   "source": []
  }
 ],
 "metadata": {
  "kernelspec": {
   "display_name": "IPython (Python 2)",
   "language": "python",
   "name": "python2"
  },
  "language_info": {
   "codemirror_mode": {
    "name": "ipython",
    "version": 2
   },
   "file_extension": ".py",
   "mimetype": "text/x-python",
   "name": "python",
   "nbconvert_exporter": "python",
   "pygments_lexer": "ipython2",
   "version": "2.7.11"
  }
 },
 "nbformat": 4,
 "nbformat_minor": 0
}
