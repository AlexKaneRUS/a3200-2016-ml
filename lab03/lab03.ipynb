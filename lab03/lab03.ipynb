{
 "cells": [
  {
   "cell_type": "code",
   "execution_count": 1,
   "metadata": {
    "collapsed": false
   },
   "outputs": [],
   "source": [
    "import lab03\n",
    "import numpy as np\n",
    "import cPickle\n",
    "\n",
    "x, y = cPickle.load(open('iris.txt', 'rb'))"
   ]
  },
  {
   "cell_type": "code",
   "execution_count": 6,
   "metadata": {
    "collapsed": false
   },
   "outputs": [
    {
     "name": "stdout",
     "output_type": "stream",
     "text": [
      "Sklearn на этих данных даёт score 0.96\n",
      "\n",
      "Результат работы реализованного мной невзвешенного KNN с k = 3 (значение получено в результате grid search), метрика Евклидова:\n",
      "0.98\n",
      "Кросс-валидация с теми же параметрами:\n",
      "0.947321428571\n",
      "\n",
      "Уже взвешенный KNN с k = 4 (значение получено в результате grid search), метрика Евклидова:\n",
      "0.98\n",
      "Кросс-валидация с теми же параметрами:\n",
      "0.938392857143\n",
      "\n",
      "То же самое, что и в первых двух случаях, но для манхэттеновской метрики:\n",
      "0.94\n",
      "Кросс-валидация с теми же параметрами:\n",
      "0.952678571429\n",
      "\n",
      "Взвешенный KNN:\n",
      "0.96\n",
      "Кросс-валидация с теми же параметрами:\n",
      "0.945535714286\n"
     ]
    }
   ],
   "source": [
    "l, t = lab03.divideDataSet(x, y)\n",
    "print(\"Sklearn на этих данных даёт score 0.96\")\n",
    "print(\"\")\n",
    "print(\"Результат работы реализованного мной невзвешенного KNN с k = 3 (значение получено в результате grid search), метрика Евклидова:\")\n",
    "result, the_result = lab03.kNN(l, t, 3, 2, 0, 0, 0)\n",
    "print(the_result)\n",
    "print(\"Кросс-валидация с теми же параметрами:\")\n",
    "print(lab03.cv(x, y, 3, 2, 0, 0, 0))\n",
    "print(\"\")\n",
    "print(\"Уже взвешенный KNN с k = 4 (значение получено в результате grid search), метрика Евклидова:\")\n",
    "result, the_result = lab03.kNN(l, t, 4, 2, 0, 1, 0)\n",
    "print(the_result)\n",
    "print(\"Кросс-валидация с теми же параметрами:\")\n",
    "print(lab03.cv(x, y, 4, 2, 0, 1, 0))\n",
    "print(\"\")\n",
    "print(\"То же самое, что и в первых двух случаях, но для манхэттеновской метрики:\")\n",
    "result, the_result = lab03.kNN(l, t, 3, 2, 0, 0, 1)\n",
    "print(the_result)\n",
    "print(\"Кросс-валидация с теми же параметрами:\")\n",
    "print(lab03.cv(x, y, 3, 2, 0, 0, 1))\n",
    "print(\"\")\n",
    "print(\"Взвешенный KNN:\")\n",
    "result, the_result = lab03.kNN(l, t, 4, 2, 0, 1, 1)\n",
    "print(the_result)\n",
    "print(\"Кросс-валидация с теми же параметрами:\")\n",
    "print(lab03.cv(x, y, 4, 2, 0, 1, 1))"
   ]
  },
  {
   "cell_type": "code",
   "execution_count": 5,
   "metadata": {
    "collapsed": false
   },
   "outputs": [
    {
     "name": "stdout",
     "output_type": "stream",
     "text": [
      "Сам grid search:\n",
      "\n",
      "Невзвешенный KNN:\n",
      "3\n",
      "\n",
      "Взвешенный KNN:\n",
      "4\n"
     ]
    }
   ],
   "source": [
    "print(\"Сам grid search:\")\n",
    "print(\"\")\n",
    "print(\"Невзвешенный KNN:\")\n",
    "print(lab03.grid_search(l, t, 2, 0, 0, 0))\n",
    "print(\"\")\n",
    "print(\"Взвешенный KNN:\")\n",
    "print(lab03.grid_search(l, t, 2, 0, 1, 0))"
   ]
  },
  {
   "cell_type": "code",
   "execution_count": null,
   "metadata": {
    "collapsed": true
   },
   "outputs": [],
   "source": []
  }
 ],
 "metadata": {
  "kernelspec": {
   "display_name": "IPython (Python 2)",
   "language": "python",
   "name": "python2"
  },
  "language_info": {
   "codemirror_mode": {
    "name": "ipython",
    "version": 2
   },
   "file_extension": ".py",
   "mimetype": "text/x-python",
   "name": "python",
   "nbconvert_exporter": "python",
   "pygments_lexer": "ipython2",
   "version": "2.7.11"
  }
 },
 "nbformat": 4,
 "nbformat_minor": 0
}
